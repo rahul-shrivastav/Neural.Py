{
  "cells": [
    {
      "cell_type": "code",
      "execution_count": 8,
      "metadata": {
        "colab": {
          "base_uri": "https://localhost:8080/"
        },
        "collapsed": true,
        "id": "6noiaxktJ8zU",
        "outputId": "61beff0c-5a1e-4b34-f29a-05b26a38861c"
      },
      "outputs": [],
      "source": [
        "from transformers import AutoModelForCausalLM, AutoTokenizer, GenerationConfig\n",
        "import torch"
      ]
    },
    {
      "cell_type": "code",
      "execution_count": 10,
      "metadata": {
        "collapsed": true,
        "id": "WYGrx-8XK7no"
      },
      "outputs": [],
      "source": [
        "model = AutoModelForCausalLM.from_pretrained(\"rahul-shrivastav/Neuralpy-v1\", torch_dtype=torch.float16, load_in_8bit=False,\n",
        "                                             device_map=\"auto\",\n",
        "                                             trust_remote_code=True)\n",
        "\n",
        "tokenizer = AutoTokenizer.from_pretrained(\"rahul-shrivastav/Neuralpy-v1\")\n",
        "tokenizer.pad_token = tokenizer.eos_token"
      ]
    },
    {
      "cell_type": "code",
      "execution_count": 11,
      "metadata": {
        "id": "eWS5mEFQKCNE"
      },
      "outputs": [],
      "source": [
        "def formatted_prompt(question)-> str:\n",
        "    return f\"<|user|>\\n{question}</s>\\n<|assistant|>\""
      ]
    },
    {
      "cell_type": "code",
      "execution_count": 12,
      "metadata": {
        "id": "4KrUpXuySyMo"
      },
      "outputs": [],
      "source": [
        "def generate_response(user_input):\n",
        "\n",
        "  prompt = formatted_prompt(user_input)\n",
        "  inputs = tokenizer([prompt], return_tensors=\"pt\").to(model.device)\n",
        "\n",
        "  generation_config = GenerationConfig(penalty_alpha=0.6,do_sample = True,\n",
        "      top_k=50,temperature=0.7,repetition_penalty=1.2,\n",
        "      max_new_tokens=256,pad_token_id=tokenizer.eos_token_id\n",
        "  )\n",
        "\n",
        "  outputs = model.generate(**inputs, generation_config=generation_config)\n",
        "  print(tokenizer.decode(outputs[0], skip_special_tokens=True))"
      ]
    },
    {
      "cell_type": "code",
      "execution_count": 14,
      "metadata": {
        "colab": {
          "base_uri": "https://localhost:8080/"
        },
        "id": "ICJ7gBjNUW6-",
        "outputId": "456533d2-50c0-4c86-de7d-99d0a0b0dabe"
      },
      "outputs": [
        {
          "name": "stdout",
          "output_type": "stream",
          "text": [
            "<|user|>\n",
            "write a python code to print average of array \n",
            "<|assistant|>\n",
            "def average(array):\n",
            "    total = sum(array) # calculate the sum of all data in the array\n",
            "    return (total / len(array)) # divide by the length of the array and then round off\n",
            "\n",
            "print(average([1,2,3]))\n"
          ]
        }
      ],
      "source": [
        "generate_response(user_input='write a python code to print average of array')"
      ]
    }
  ],
  "metadata": {
    "accelerator": "GPU",
    "colab": {
      "gpuType": "T4",
      "provenance": []
    },
    "kernelspec": {
      "display_name": "venv",
      "language": "python",
      "name": "python3"
    },
    "language_info": {
      "codemirror_mode": {
        "name": "ipython",
        "version": 3
      },
      "file_extension": ".py",
      "mimetype": "text/x-python",
      "name": "python",
      "nbconvert_exporter": "python",
      "pygments_lexer": "ipython3",
      "version": "3.10.18"
    }
  },
  "nbformat": 4,
  "nbformat_minor": 0
}
